{
 "cells": [
  {
   "cell_type": "markdown",
   "metadata": {},
   "source": [
    "Используется старая реализация ESN, с новой еще не работал.\n",
    "\n",
    "В MotionDetector исправить получение признаков и работу метода detect."
   ]
  },
  {
   "cell_type": "code",
   "execution_count": 1,
   "metadata": {},
   "outputs": [],
   "source": [
    "import os\n",
    "import sys\n",
    "import cv2\n",
    "import numpy as np\n",
    "from pathlib import Path\n",
    "\n",
    "sys.path.append(\"../src\")\n",
    "\n",
    "from detector import MotionDetector\n",
    "from model.esn_old import ESN"
   ]
  },
  {
   "cell_type": "code",
   "execution_count": 2,
   "metadata": {},
   "outputs": [],
   "source": [
    "current_path = Path(os.getcwd())\n",
    "project_path = current_path.parent\n",
    "new_path = project_path / 'resources'\n",
    "\n",
    "PATH_DATA = new_path\n",
    "\n",
    "PATH_VIDEO = f\"{PATH_DATA}/motion_video.avi\"\n",
    "# PATH_VIDEO = f\"{PATH_DATA}/no_movement.avi\"\n",
    "# PATH_VIDEO = f\"{PATH_DATA}/video_overexposure.avi\""
   ]
  },
  {
   "cell_type": "code",
   "execution_count": 3,
   "metadata": {},
   "outputs": [],
   "source": [
    "model = ESN(\n",
    "    input_size=10,\n",
    "    reservoir_size=100,\n",
    "    output_size=10,\n",
    "    rhow=0.95,\n",
    "    sparsity=0.2,\n",
    "    leaky_rate=0.1,\n",
    "    input_scaling=0.45\n",
    ")"
   ]
  },
  {
   "cell_type": "code",
   "execution_count": 4,
   "metadata": {},
   "outputs": [],
   "source": [
    "motion_detector = MotionDetector(\n",
    "    lower_bound=np.array([64, 84, 75]),\n",
    "    upper_bound=np.array([92, 255, 255]),\n",
    "    model=model,\n",
    "    min_area=1000,\n",
    "    roi_algo=\"contours\",\n",
    "    contours_coords=[[639, 436], [464, 379], [200, 380], [0, 447], [0, 479], [170, 400], [482, 395], [636, 465]],\n",
    "    cnt_zones=10,\n",
    "    size_data_history=120,\n",
    "    size_error_history=120,\n",
    "    size_anomaly_history=4,\n",
    "    score_threshold=0.5,\n",
    "    factor=1.2\n",
    ")"
   ]
  },
  {
   "cell_type": "code",
   "execution_count": 5,
   "metadata": {},
   "outputs": [],
   "source": [
    "cap = cv2.VideoCapture(PATH_VIDEO)\n",
    "fourcc = cv2.VideoWriter_fourcc(*'mp4v')\n",
    "output_path = os.path.abspath('output_video.mp4')\n",
    "out = cv2.VideoWriter(output_path, fourcc, 30.0, (int(cap.get(3)), int(cap.get(4))))\n",
    "\n",
    "cnt = 0\n",
    "temp = []\n",
    "zone_masks = []\n",
    "\n",
    "while cap.isOpened():\n",
    "    \n",
    "    ret, frame = cap.read()\n",
    "    if not ret:\n",
    "        break\n",
    "    \n",
    "    cnt += 1\n",
    "    \n",
    "    res = motion_detector.detect(frame)\n",
    "    \n",
    "    if not zone_masks:\n",
    "        for zone in motion_detector.zones:\n",
    "            zone_masks.append(zone[\"mask\"])\n",
    "    \n",
    "    for mask in zone_masks:\n",
    "        contours, _ = cv2.findContours(mask, cv2.RETR_EXTERNAL, cv2.CHAIN_APPROX_SIMPLE)\n",
    "        cv2.drawContours(frame, contours, -1, (0, 255, 0), 3)\n",
    "    \n",
    "    if res:\n",
    "        temp.append(cnt)\n",
    "        cv2.putText(frame, 'Anomaly', (10, 30), cv2.FONT_HERSHEY_SIMPLEX, 1, (0, 0, 255), 2, cv2.LINE_AA)\n",
    "    \n",
    "    out.write(frame)\n",
    "\n",
    "cap.release()\n",
    "out.release()"
   ]
  }
 ],
 "metadata": {
  "kernelspec": {
   "display_name": "env",
   "language": "python",
   "name": "python3"
  },
  "language_info": {
   "codemirror_mode": {
    "name": "ipython",
    "version": 3
   },
   "file_extension": ".py",
   "mimetype": "text/x-python",
   "name": "python",
   "nbconvert_exporter": "python",
   "pygments_lexer": "ipython3",
   "version": "3.11.8"
  }
 },
 "nbformat": 4,
 "nbformat_minor": 2
}
