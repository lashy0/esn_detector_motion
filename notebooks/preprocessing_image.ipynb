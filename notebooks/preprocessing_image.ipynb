{
 "cells": [
  {
   "cell_type": "code",
   "execution_count": 1,
   "metadata": {},
   "outputs": [],
   "source": [
    "import cv2\n",
    "import numpy as np\n",
    "import matplotlib.pyplot as plt"
   ]
  },
  {
   "cell_type": "code",
   "execution_count": 2,
   "metadata": {},
   "outputs": [],
   "source": [
    "import sys\n",
    "\n",
    "sys.path.append(\"../src\")\n",
    "\n",
    "from detector import MotionDetector"
   ]
  },
  {
   "cell_type": "code",
   "execution_count": 3,
   "metadata": {},
   "outputs": [],
   "source": [
    "import os\n",
    "from pathlib import Path\n",
    "\n",
    "current_path = Path(os.getcwd())\n",
    "project_path = current_path.parent\n",
    "new_path = project_path / 'resources'\n",
    "\n",
    "PATH_DATA = new_path\n",
    "\n",
    "PATH_VIDEO = f\"{PATH_DATA}/motion_video.avi\""
   ]
  },
  {
   "cell_type": "code",
   "execution_count": 4,
   "metadata": {},
   "outputs": [],
   "source": [
    "detector = MotionDetector(\n",
    "    lower_bound=np.array([64, 84, 75]),\n",
    "    upper_bound=np.array([92, 255, 255]),\n",
    "    roi_algo=\"contours\",\n",
    "    contours_coords=[[639, 436], [464, 379], [200, 380], [0, 447], [0, 479], [170, 400], [482, 395], [636, 465]],\n",
    ")"
   ]
  },
  {
   "cell_type": "code",
   "execution_count": 5,
   "metadata": {},
   "outputs": [],
   "source": [
    "cap = cv2.VideoCapture(PATH_VIDEO)\n",
    "\n",
    "num_frame = 0\n",
    "\n",
    "previous_frame = None\n",
    "\n",
    "while cap.isOpened():\n",
    "    ret, frame = cap.read()\n",
    "    if not ret:\n",
    "        break\n",
    "    \n",
    "    num_frame += 1\n",
    "    \n",
    "    res = detector.detect(frame)\n",
    "    \n",
    "    gray_frame = cv2.cvtColor(frame, cv2.COLOR_BGR2GRAY)\n",
    "    gray_frame = cv2.GaussianBlur(gray_frame, (21, 21), 0)\n",
    "    \n",
    "    if previous_frame is None:\n",
    "        previous_frame = gray_frame\n",
    "        continue\n",
    "    \n",
    "    frame_diff = cv2.absdiff(previous_frame, gray_frame)\n",
    "    \n",
    "    _, motion_mask = cv2.threshold(frame_diff, 25, 255, cv2.THRESH_BINARY)\n",
    "    \n",
    "    previous_frame = gray_frame\n",
    "    \n",
    "    if detector.is_roi_found():\n",
    "        features = []\n",
    "        zones = detector.zones\n",
    "        \n",
    "        # roi_display = np.zeros_like(gray_frame)\n",
    "        roi_display = frame.copy()\n",
    "        \n",
    "        for zone in zones:\n",
    "            if \"roi_mask\" not in zone or zone[\"roi_mask\"] is None:\n",
    "                features.appen(0)\n",
    "                continue\n",
    "            \n",
    "            rect = zone[\"roi_rect\"]\n",
    "            mask = zone[\"roi_mask\"]\n",
    "            \n",
    "            x, y, w, h = rect\n",
    "            \n",
    "            roi = motion_mask[y : y + h, x : x + w]\n",
    "            motion_value = np.sum(roi) / 255  # Количество пикселей с движением\n",
    "            features.append(motion_value)\n",
    "            \n",
    "            cv2.rectangle(frame, (x, y), (x + w, y + h), (0, 255, 0), 2)\n",
    "            \n",
    "            roi_gray = cv2.cvtColor(roi, cv2.COLOR_GRAY2BGR)\n",
    "            \n",
    "            roi_display[y:y+h, x:x+w] = roi_gray\n",
    "            \n",
    "        frame = np.hstack((frame, roi_display))\n",
    "    \n",
    "    cv2.imshow(\"Frame with zones\", frame)\n",
    "    \n",
    "    if cv2.waitKey(4) & 0xFF == ord('q'):\n",
    "        break\n",
    "\n",
    "cap.release()\n",
    "cv2.destroyAllWindows()\n",
    "                "
   ]
  }
 ],
 "metadata": {
  "kernelspec": {
   "display_name": "env",
   "language": "python",
   "name": "python3"
  },
  "language_info": {
   "codemirror_mode": {
    "name": "ipython",
    "version": 3
   },
   "file_extension": ".py",
   "mimetype": "text/x-python",
   "name": "python",
   "nbconvert_exporter": "python",
   "pygments_lexer": "ipython3",
   "version": "3.11.8"
  }
 },
 "nbformat": 4,
 "nbformat_minor": 2
}
